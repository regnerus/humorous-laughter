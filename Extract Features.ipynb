{
 "cells": [
  {
   "cell_type": "code",
   "execution_count": 124,
   "metadata": {},
   "outputs": [],
   "source": [
    "import textgrid as tg\n",
    "import os\n",
    "import numpy as np\n",
    "import pandas as pd\n",
    "\n",
    "from pydub import AudioSegment\n",
    "\n",
    "import h5py\n",
    "\n",
    "import math\n",
    "import datetime\n",
    "\n",
    "from python_speech_features import mfcc\n",
    "from python_speech_features import delta\n",
    "from python_speech_features import logfbank"
   ]
  },
  {
   "cell_type": "code",
   "execution_count": 140,
   "metadata": {},
   "outputs": [],
   "source": [
    "class FeatureExtractor:\n",
    "    def __init__(self, features):\n",
    "        self.features = features\n",
    "        self.df = pd.DataFrame(columns=[\"label\", \"features\"])\n",
    "    \n",
    "    def __loadWav(self, path):\n",
    "        sig = AudioSegment.from_file(path, format=\"wav\")\n",
    "\n",
    "        return sig\n",
    "    \n",
    "    def __extractFeatures(self,segment):\n",
    "        samples = np.array(segment.get_array_of_samples())\n",
    "        frame_rate = segment.frame_rate\n",
    "\n",
    "        mfcc_feat = mfcc(samples, frame_rate, nfft=1103)\n",
    "        d_mfcc_feat = delta(mfcc_feat, 2)\n",
    "        fbank_feat = logfbank(samples, frame_rate, nfft=1103)\n",
    "\n",
    "        return np.concatenate((np.array(mfcc_feat),np.array(d_mfcc_feat),np.array(fbank_feat)), axis=1)\n",
    "\n",
    "    def extract(self, path):\n",
    "        for i, file in enumerate(os.listdir(path)):        \n",
    "            if file.endswith(\".TextGrid\"): \n",
    "                wav_path = os.path.join(path, os.path.splitext(file)[0] + '.wav')\n",
    "                if os.path.isfile(wav_path): \n",
    "                    sig = self.__loadWav(wav_path)\n",
    "                    \n",
    "                    textgrid_path = os.path.join(path, file)\n",
    "                    textgrid = tg.TextGrid.fromFile(textgrid_path)\n",
    "\n",
    "                    humorous_tier = textgrid[1]\n",
    "                    for interval in humorous_tier: #humorous tier\n",
    "                        if interval.mark in self.features:\n",
    "                            start = int(interval.minTime * 1000)\n",
    "                            end = int(interval.maxTime * 1000)\n",
    "                            trimmed_sig = sig[start:end]\n",
    "                            label = interval.mark\n",
    "                            \n",
    "                            feat = self.__extractFeatures(trimmed_sig).astype(np.float32).tolist()\n",
    "                            self.df.loc[self.df.shape[0]] = [label,feat] \n",
    "        return self.df\n",
    "    \n",
    "    def saveFeaturesHDF(self, path):\n",
    "        filename = 'features{}.h5'.format(datetime.datetime.now().strftime(\"%Y_%m_%d_%H_%M_%S\"))\n",
    "        self.df.to_hdf(os.path.join(path, filename),'df',mode='w',format='fixed',data_columns=True, compression='zlib')\n",
    "    \n",
    "    def saveFeaturesCSV(self, path):\n",
    "        filename = 'features{}.csv'.format(datetime.datetime.now().strftime(\"%Y_%m_%d_%H_%M_%S\"))\n",
    "        self.df.to_csv(os.path.join(path, filename),mode='w')"
   ]
  },
  {
   "cell_type": "code",
   "execution_count": null,
   "metadata": {},
   "outputs": [],
   "source": [
    "extractor = FeatureExtractor(['H', 'N'])\n",
    "\n",
    "extractor.extract('data/')"
   ]
  },
  {
   "cell_type": "code",
   "execution_count": 139,
   "metadata": {},
   "outputs": [],
   "source": [
    "extractor.saveFeaturesCSV('data/')"
   ]
  },
  {
   "cell_type": "code",
   "execution_count": null,
   "metadata": {},
   "outputs": [],
   "source": []
  }
 ],
 "metadata": {
  "kernelspec": {
   "display_name": "Python 3",
   "language": "python",
   "name": "python3"
  },
  "language_info": {
   "codemirror_mode": {
    "name": "ipython",
    "version": 3
   },
   "file_extension": ".py",
   "mimetype": "text/x-python",
   "name": "python",
   "nbconvert_exporter": "python",
   "pygments_lexer": "ipython3",
   "version": "3.6.4"
  }
 },
 "nbformat": 4,
 "nbformat_minor": 2
}
