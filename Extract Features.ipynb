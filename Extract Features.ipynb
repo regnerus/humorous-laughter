{
 "cells": [
  {
   "cell_type": "code",
   "execution_count": 1,
   "metadata": {},
   "outputs": [
    {
     "name": "stderr",
     "output_type": "stream",
     "text": [
      "/usr/local/lib/python3.6/site-packages/h5py/__init__.py:36: FutureWarning: Conversion of the second argument of issubdtype from `float` to `np.floating` is deprecated. In future, it will be treated as `np.float64 == np.dtype(float).type`.\n",
      "  from ._conv import register_converters as _register_converters\n"
     ]
    }
   ],
   "source": [
    "import textgrid as tg\n",
    "import os\n",
    "import numpy as np\n",
    "import pandas as pd\n",
    "\n",
    "from pydub import AudioSegment\n",
    "\n",
    "import librosa\n",
    "import librosa.display\n",
    "\n",
    "import h5py\n",
    "\n",
    "import sklearn\n",
    "\n",
    "import math\n",
    "import datetime\n",
    "\n",
    "import soundfile as sf\n",
    "\n",
    "import matplotlib.pyplot as plt\n",
    "import IPython.display\n",
    "plt.rcParams['figure.figsize'] = (14,4)"
   ]
  },
  {
   "cell_type": "code",
   "execution_count": 1,
   "metadata": {},
   "outputs": [],
   "source": [
    "class FeatureExtractor:\n",
    "    def __init__(self, marks):\n",
    "        self.marks = marks\n",
    "        self.features = np.empty((0,227))\n",
    "        self.labels = np.empty(0)\n",
    "        self.df = pd.DataFrame(columns=[\"label\", \"features\"])\n",
    "    \n",
    "    def __loadWav(self, path):\n",
    "#         sig = AudioSegment.from_file(path, format=\"wav\")\n",
    "        X, sample_rate = sf.read(path, dtype='float32')\n",
    "\n",
    "        return X, sample_rate\n",
    "    \n",
    "    def __extractFeatures(self,X, sample_rate):\n",
    "        X = X.T\n",
    "\n",
    "        # short term fourier transform\n",
    "        stft = np.abs(librosa.stft(X))\n",
    "\n",
    "        # mfcc and delta\n",
    "        mfcc_features = librosa.feature.mfcc(y=X, sr=sample_rate, n_mfcc=40)\n",
    "        \n",
    "        mfccs = np.mean(mfcc_features.T,axis=0)\n",
    "            \n",
    "        deltas = np.mean(librosa.feature.delta(mfcc_features.T),axis=0)\n",
    "        \n",
    "        # chroma\n",
    "        chroma = np.mean(librosa.feature.chroma_stft(S=stft, sr=sample_rate).T,axis=0)\n",
    "\n",
    "#         tonnetz = np.mean(librosa.feature.tonnetz(y=librosa.effects.harmonic(X), sr=sample_rate).T,axis=0)\n",
    "        return mfccs,deltas,chroma,mel,contrast\n",
    "\n",
    "    def extract(self, path):\n",
    "        for i, file in enumerate(os.listdir(path)):        \n",
    "            if file.endswith(\".TextGrid\"): \n",
    "                wav_path = os.path.join(path, os.path.splitext(file)[0] + '.wav')\n",
    "                if os.path.isfile(wav_path): \n",
    "                    sig, sample_rate = self.__loadWav(wav_path)\n",
    "                    \n",
    "                    textgrid_path = os.path.join(path, file)\n",
    "                    textgrid = tg.TextGrid.fromFile(textgrid_path)\n",
    "\n",
    "                    humorous_tier = textgrid[1]\n",
    "                    for interval in humorous_tier: #humorous tier\n",
    "                        if interval.mark in self.marks:\n",
    "                            start = int(interval.minTime * 1000)\n",
    "                            end = int(interval.maxTime * 1000)\n",
    "                            trimmed_sig = sig[start:end]\n",
    "                            label = self.marks.index(interval.mark)\n",
    "                            \n",
    "                            mfccs, deltas, chroma, mel, contrast = self.__extractFeatures(trimmed_sig, sample_rate)\n",
    "                            ext_features = np.hstack([mfccs,deltas,chroma,mel,contrast])\n",
    "                            self.features = np.vstack([self.features,ext_features])\n",
    "                            \n",
    "                            self.labels = np.append(self.labels, label)\n",
    "                            \n",
    "            \n",
    "        return np.array(self.features), np.array(self.labels, dtype = np.int)\n",
    "\n",
    "    def saveNumpy(self, path):\n",
    "        print(self.labels.shape,self.features.shape)\n",
    "        np.save(os.path.join(path, 'feat.npy'), self.features)\n",
    "        np.save(os.path.join(path, 'label.npy'), self.labels)"
   ]
  },
  {
   "cell_type": "code",
   "execution_count": 13,
   "metadata": {},
   "outputs": [
    {
     "data": {
      "text/plain": [
       "(array([[-574.19048652,  122.13885795,   25.8610535 , ...,   17.1445783 ,\n",
       "           16.24557289,   18.24968235],\n",
       "        [-517.54458032,  130.55309811,   -7.09663712, ...,   16.85812776,\n",
       "           17.53970187,   19.61186726],\n",
       "        [-525.63052949,  119.66464735,  -42.07406394, ...,   16.20020704,\n",
       "           18.75778593,   22.73578931],\n",
       "        ...,\n",
       "        [-450.51683619,  172.94091484,   11.55364805, ...,   21.974382  ,\n",
       "           16.99298938,   21.65583656],\n",
       "        [-557.33204163,  127.62128152,   18.98406461, ...,   15.48677187,\n",
       "           18.09035815,   19.24012012],\n",
       "        [-526.25698228,  130.93894725,    1.58692943, ...,   18.13603571,\n",
       "           17.10329408,   21.9967427 ]]),\n",
       " array([0, 0, 1, 1, 1, 0, 0, 0, 0, 0, 1, 0, 1, 1, 0, 0, 0, 0, 1, 0, 0, 1,\n",
       "        0, 0, 0, 1, 0, 1, 1, 1, 1, 0, 0, 0, 1, 1, 1, 0, 0, 1, 1, 1, 1, 1,\n",
       "        1, 1, 0, 1, 1, 1, 1, 1, 1, 1, 0, 0, 0, 0, 1, 1, 0, 1, 0, 0, 0, 0,\n",
       "        0, 1, 1, 0, 0, 0, 1, 1, 0, 0, 1, 0, 0, 1, 1, 1, 0, 1, 1, 1, 0, 0,\n",
       "        0, 1, 1, 1, 0, 0, 1, 1, 1, 1, 1, 1, 1, 0, 1, 0, 0, 1, 1, 1, 0, 0,\n",
       "        1, 1, 1, 1, 1, 1, 0, 1, 1, 1, 1, 1, 1, 0, 1, 1, 1, 1, 0, 1, 1, 0,\n",
       "        1, 1, 0, 0, 0, 1, 1, 1, 0, 1, 0, 0, 0, 0, 0, 0, 0, 0, 1, 1, 1, 0,\n",
       "        1, 1, 1, 0, 0, 1, 1, 0, 0, 0, 1, 1, 1, 0, 0, 0, 1, 1, 1, 0, 0, 1,\n",
       "        1, 1, 0, 0, 1, 0, 1, 1, 1, 1, 0, 0, 1, 1, 1, 0, 0, 0, 1, 0, 1, 1,\n",
       "        1, 1, 0, 1, 1, 0, 0, 0, 1, 1, 1, 0, 1, 0, 1, 0, 0, 1, 0, 1, 1, 1,\n",
       "        0, 0]))"
      ]
     },
     "execution_count": 13,
     "metadata": {},
     "output_type": "execute_result"
    }
   ],
   "source": [
    "extractor = FeatureExtractor(['H', 'N'])\n",
    "\n",
    "extractor.extract('data/')"
   ]
  },
  {
   "cell_type": "code",
   "execution_count": 14,
   "metadata": {},
   "outputs": [
    {
     "name": "stdout",
     "output_type": "stream",
     "text": [
      "(222,) (222, 227)\n"
     ]
    }
   ],
   "source": [
    "extractor.saveNumpy('data/')"
   ]
  },
  {
   "cell_type": "code",
   "execution_count": null,
   "metadata": {},
   "outputs": [],
   "source": []
  }
 ],
 "metadata": {
  "kernelspec": {
   "display_name": "Python 3",
   "language": "python",
   "name": "python3"
  },
  "language_info": {
   "codemirror_mode": {
    "name": "ipython",
    "version": 3
   },
   "file_extension": ".py",
   "mimetype": "text/x-python",
   "name": "python",
   "nbconvert_exporter": "python",
   "pygments_lexer": "ipython3",
   "version": "3.6.4"
  }
 },
 "nbformat": 4,
 "nbformat_minor": 2
}
