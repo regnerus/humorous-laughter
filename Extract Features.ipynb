{
 "cells": [
  {
   "cell_type": "code",
   "execution_count": 282,
   "metadata": {},
   "outputs": [],
   "source": [
    "import textgrid as tg\n",
    "import os\n",
    "import numpy as np\n",
    "import pandas as pd\n",
    "\n",
    "from pydub import AudioSegment\n",
    "\n",
    "import librosa\n",
    "import librosa.display\n",
    "\n",
    "import h5py\n",
    "\n",
    "import sklearn\n",
    "\n",
    "import math\n",
    "import datetime\n",
    "\n",
    "import soundfile as sf\n",
    "\n",
    "import matplotlib.pyplot as plt\n",
    "import IPython.display\n",
    "plt.rcParams['figure.figsize'] = (14,4)"
   ]
  },
  {
   "cell_type": "code",
   "execution_count": 289,
   "metadata": {},
   "outputs": [],
   "source": [
    "class FeatureExtractor:\n",
    "    def __init__(self, marks):\n",
    "        self.marks = marks\n",
    "        self.features = np.empty((0,227))\n",
    "        self.labels = np.empty(0)\n",
    "        self.df = pd.DataFrame(columns=[\"label\", \"features\"])\n",
    "    \n",
    "    def __loadWav(self, path):\n",
    "#         sig = AudioSegment.from_file(path, format=\"wav\")\n",
    "        X, sample_rate = sf.read(path, dtype='float32')\n",
    "\n",
    "        return X, sample_rate\n",
    "    \n",
    "    def __extractFeatures(self,X, sample_rate):\n",
    "        X = X.T\n",
    "\n",
    "        # short term fourier transform\n",
    "        stft = np.abs(librosa.stft(X))\n",
    "\n",
    "        # mfcc and delta\n",
    "        mfcc_features = librosa.feature.mfcc(y=X, sr=sample_rate, n_mfcc=40)\n",
    "        \n",
    "        mfccs = np.mean(mfcc_features.T,axis=0)\n",
    "            \n",
    "        deltas = np.mean(librosa.feature.delta(mfcc_features.T),axis=0)\n",
    "        \n",
    "        # chroma\n",
    "        chroma = np.mean(librosa.feature.chroma_stft(S=stft, sr=sample_rate).T,axis=0)\n",
    "\n",
    "        # melspectrogram\n",
    "        mel = np.mean(librosa.feature.melspectrogram(X, sr=sample_rate).T,axis=0)\n",
    "\n",
    "        # spectral contrast\n",
    "        contrast = np.mean(librosa.feature.spectral_contrast(S=stft, sr=sample_rate).T,axis=0)\n",
    "\n",
    "#         tonnetz = np.mean(librosa.feature.tonnetz(y=librosa.effects.harmonic(X), sr=sample_rate).T,axis=0)\n",
    "        return mfccs,deltas,chroma,mel,contrast\n",
    "\n",
    "    def extract(self, path):\n",
    "        for i, file in enumerate(os.listdir(path)):        \n",
    "            if file.endswith(\".TextGrid\"): \n",
    "                wav_path = os.path.join(path, os.path.splitext(file)[0] + '.wav')\n",
    "                if os.path.isfile(wav_path): \n",
    "                    sig, sample_rate = self.__loadWav(wav_path)\n",
    "                    \n",
    "                    textgrid_path = os.path.join(path, file)\n",
    "                    textgrid = tg.TextGrid.fromFile(textgrid_path)\n",
    "\n",
    "                    humorous_tier = textgrid[1]\n",
    "                    for interval in humorous_tier: #humorous tier\n",
    "                        if interval.mark in self.marks:\n",
    "                            start = int(interval.minTime * 1000)\n",
    "                            end = int(interval.maxTime * 1000)\n",
    "                            trimmed_sig = sig[start:end]\n",
    "                            label = self.marks.index(interval.mark)\n",
    "                            \n",
    "                            mfccs, deltas, chroma, mel, contrast = self.__extractFeatures(trimmed_sig, sample_rate)\n",
    "                            ext_features = np.hstack([mfccs,deltas,chroma,mel,contrast])\n",
    "                            self.features = np.vstack([self.features,ext_features])\n",
    "                            \n",
    "                            self.labels = np.append(self.labels, label)\n",
    "                            \n",
    "            \n",
    "        return np.array(self.features), np.array(self.labels, dtype = np.int)\n",
    "\n",
    "    def saveNumpy(self, path):\n",
    "        np.save(os.path.join(path, 'feat.npy'), self.features)\n",
    "        np.save(os.path.join(path, 'label.npy'), self.labels)"
   ]
  },
  {
   "cell_type": "code",
   "execution_count": 288,
   "metadata": {},
   "outputs": [
    {
     "data": {
      "text/plain": [
       "(array([[-498.00571094,  115.22830751,  -17.71747072, ...,   16.59821214,\n",
       "           20.49534195,   21.61198308],\n",
       "        [-519.22341526,  103.46712998,  -15.10817037, ...,   16.76542554,\n",
       "           18.82820224,   18.97010032],\n",
       "        [-417.47021286,  146.68699207,  -34.42571881, ...,   17.69312003,\n",
       "           15.66631595,   22.15552396],\n",
       "        ...,\n",
       "        [-401.12140477,  148.16541655,  -36.35623607, ...,   16.76183975,\n",
       "           16.63571731,   23.81582308],\n",
       "        [-495.78024875,  106.45667549,  -42.10897193, ...,   24.28949132,\n",
       "           32.09515495,   34.24728628],\n",
       "        [-450.51683619,  172.94091484,   11.55364805, ...,   21.974382  ,\n",
       "           16.99298938,   21.65583656]]),\n",
       " array([1, 1, 0, 0, 1, 0, 1, 1, 1, 1, 0, 1, 1, 1, 1, 1, 1, 1, 0, 0, 0, 1,\n",
       "        0, 0, 0, 1, 1, 0, 0, 1, 1, 1, 1, 1, 1, 0, 1, 1, 1, 1, 1, 1, 0, 1,\n",
       "        1, 1, 1, 1, 1, 0, 0, 0, 1, 1, 1, 0, 1, 1, 0, 1, 1, 1, 1, 0, 0, 0,\n",
       "        1, 1, 1, 0, 0, 1, 1, 1, 0, 0, 1, 0, 0, 0, 1, 1, 1, 0, 1, 1, 1]))"
      ]
     },
     "execution_count": 288,
     "metadata": {},
     "output_type": "execute_result"
    }
   ],
   "source": [
    "extractor = FeatureExtractor(['H', 'N'])\n",
    "\n",
    "extractor.extract('data/')"
   ]
  },
  {
   "cell_type": "code",
   "execution_count": 276,
   "metadata": {},
   "outputs": [],
   "source": [
    "extractor.saveNumpy('data/')"
   ]
  },
  {
   "cell_type": "code",
   "execution_count": null,
   "metadata": {},
   "outputs": [],
   "source": []
  }
 ],
 "metadata": {
  "kernelspec": {
   "display_name": "Python 3",
   "language": "python",
   "name": "python3"
  },
  "language_info": {
   "codemirror_mode": {
    "name": "ipython",
    "version": 3
   },
   "file_extension": ".py",
   "mimetype": "text/x-python",
   "name": "python",
   "nbconvert_exporter": "python",
   "pygments_lexer": "ipython3",
   "version": "3.6.4"
  }
 },
 "nbformat": 4,
 "nbformat_minor": 2
}
