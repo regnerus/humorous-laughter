{
 "cells": [
  {
   "cell_type": "code",
   "execution_count": 6,
   "metadata": {},
   "outputs": [
    {
     "name": "stdout",
     "output_type": "stream",
     "text": [
      "fitting...\n",
      "             precision    recall  f1-score   support\n",
      "\n",
      "        0.0       0.55      0.88      0.67        40\n",
      "        1.0       0.64      0.24      0.35        38\n",
      "\n",
      "avg / total       0.59      0.56      0.51        78\n",
      "\n"
     ]
    }
   ],
   "source": [
    "# coding= UTF-8\n",
    "#\n",
    "# Author: Fing\n",
    "# Date  : 2017-12-03\n",
    "#\n",
    "\n",
    "import numpy as np\n",
    "import sklearn\n",
    "from sklearn.svm import SVC\n",
    "from sklearn.naive_bayes import GaussianNB\n",
    "from sklearn import tree\n",
    "from sklearn.ensemble import RandomForestClassifier\n",
    "\n",
    "from sklearn.model_selection import train_test_split\n",
    "from sklearn.model_selection import GridSearchCV\n",
    "from sklearn.metrics import classification_report\n",
    "\n",
    "# Load data from numpy file\n",
    "X =  np.load('data/feat.npy')\n",
    "y =  np.load('data/label.npy').ravel()\n",
    "\n",
    "# Split data into training and test subsets\n",
    "X_train, X_test, y_train, y_test = train_test_split(X, y, test_size=0.35, random_state=0)\n",
    "\n",
    "# Simple SVM\n",
    "print('fitting...')\n",
    "# clf = SVC(C=3.0, gamma=0.001)\n",
    "# clf = GaussianNB()\n",
    "RandomForestClassifier(max_depth=2, random_state=0)\n",
    "\n",
    "clf.fit(X_train, y_train)\n",
    "# acc = clf.score(X_test, y_test)\n",
    "y_true, y_pred = y_test, clf.predict(X_test)\n",
    "print(classification_report(y_true, y_pred))\n",
    "# print(\"acc=%0.3f\" % acc)\n",
    "\n",
    "# #Grid search for best parameters\n",
    "# #Set the parameters by cross-validation\n",
    "# tuned_parameters = [{'kernel': ['linear', 'rbf', 'poly'], 'gamma': [1e-3, 1e-2, 1e-4, 1e-5, 1e-6],\n",
    "#                      'C': [1, 3, 5, 8, 10, 15 ,20,30,40,50]}]\n",
    "#                     #  ,\n",
    "#                     # {'kernel': ['linear'], 'C': [1, 10, 100, 1000]}]\n",
    "\n",
    "# scores = ['precision', 'recall']\n",
    "\n",
    "# for score in scores:\n",
    "#     print(\"# Tuning hyper-parameters for %s\" % score)\n",
    "#     print('')\n",
    "\n",
    "#     clf = GridSearchCV(SVC(), tuned_parameters, cv=5,\n",
    "#                        scoring='%s_macro' % score)\n",
    "#     clf.fit(X_train, y_train)\n",
    "\n",
    "#     print(\"Best parameters set found on development set:\")\n",
    "#     print('')\n",
    "#     print(clf.best_params_)\n",
    "#     print('')\n",
    "#     print(\"Grid scores on development set:\")\n",
    "#     print('')\n",
    "#     means = clf.cv_results_['mean_test_score']\n",
    "#     stds = clf.cv_results_['std_test_score']\n",
    "#     for mean, std, params in zip(means, stds, clf.cv_results_['params']):\n",
    "#         print(\"%0.3f (+/-%0.03f) for %r\"\n",
    "#               % (mean, std * 2, params))\n",
    "#     print('')\n",
    "\n",
    "#     print(\"Detailed classification report:\")\n",
    "#     print('')\n",
    "#     print(\"The model is trained on the full development set.\")\n",
    "#     print(\"The scores are computed on the full evaluation set.\")\n",
    "#     print('')\n",
    "#     y_true, y_pred = y_test, clf.predict(X_test)\n",
    "#     print(classification_report(y_true, y_pred))\n",
    "#     print('')"
   ]
  },
  {
   "cell_type": "code",
   "execution_count": null,
   "metadata": {},
   "outputs": [],
   "source": []
  },
  {
   "cell_type": "code",
   "execution_count": null,
   "metadata": {},
   "outputs": [],
   "source": []
  }
 ],
 "metadata": {
  "kernelspec": {
   "display_name": "Python 3",
   "language": "python",
   "name": "python3"
  },
  "language_info": {
   "codemirror_mode": {
    "name": "ipython",
    "version": 3
   },
   "file_extension": ".py",
   "mimetype": "text/x-python",
   "name": "python",
   "nbconvert_exporter": "python",
   "pygments_lexer": "ipython3",
   "version": "3.6.4"
  }
 },
 "nbformat": 4,
 "nbformat_minor": 2
}
